{
 "cells": [
  {
   "cell_type": "markdown",
   "id": "45507f19",
   "metadata": {},
   "source": [
    "<h1>DSS 740: Analytics with Machine Learning (Fall 2025)</h1>\n",
    "<h2 style = 'color:yellow'>OH 2.1: Object-Oriented Programming in Python</h2>\n",
    "<h3 style = 'color:green'>2.1.1 Import Libraries</h3>"
   ]
  },
  {
   "cell_type": "code",
   "execution_count": 1,
   "id": "849d2faf",
   "metadata": {},
   "outputs": [],
   "source": [
    "from animal import Animal\n",
    "from dog import Dog\n",
    "from horse import Horse"
   ]
  },
  {
   "cell_type": "markdown",
   "id": "77f70ae4",
   "metadata": {},
   "source": [
    "<h3 style = 'color:green'>2.1.2 Instantiate Dogs</h3>"
   ]
  },
  {
   "cell_type": "code",
   "execution_count": 2,
   "id": "0ce81a9a",
   "metadata": {},
   "outputs": [],
   "source": [
    "# (self, name: str, is_land_based: bool, age: int, breed: str, color: str):\n",
    "bella = Dog(\"Bella\", 3, True, \"Labrador\", \"Black\")\n",
    "coco = Dog(\"Coco\", 5, True, \"Beagle\", \"Brown and White\")\n",
    "max = Dog(\"Max\", 2, True, \"German Shepherd\", \"Tan and Black\")"
   ]
  },
  {
   "cell_type": "code",
   "execution_count": 3,
   "id": "c52b4181",
   "metadata": {},
   "outputs": [
    {
     "name": "stdout",
     "output_type": "stream",
     "text": [
      "There are 3 dogs in the shelter.\n"
     ]
    }
   ],
   "source": [
    "print(f\"There are {Dog.get_dog_count()} dogs in the shelter.\")"
   ]
  },
  {
   "cell_type": "code",
   "execution_count": 4,
   "id": "9878a14b",
   "metadata": {},
   "outputs": [
    {
     "name": "stdout",
     "output_type": "stream",
     "text": [
      "Dog(Name: Bella, Habitat: Land, Age: True, Breed: Labrador, Color: Black)\n"
     ]
    }
   ],
   "source": [
    "print(bella)"
   ]
  },
  {
   "cell_type": "code",
   "execution_count": 5,
   "id": "a65da883",
   "metadata": {},
   "outputs": [
    {
     "name": "stdout",
     "output_type": "stream",
     "text": [
      "Coco is sleeping in the bed.\n"
     ]
    }
   ],
   "source": [
    "print(coco.sleep())"
   ]
  },
  {
   "cell_type": "markdown",
   "id": "d3534eae",
   "metadata": {},
   "source": [
    "<h3 style = 'color:green'>2.1.3 Instantiate Horses</h3>"
   ]
  },
  {
   "cell_type": "code",
   "execution_count": 6,
   "id": "91d4017a",
   "metadata": {},
   "outputs": [],
   "source": [
    "# self, name: str, is_land_based: bool, age: int, gender: str, breed: str\n",
    "zoe = Horse(\"Zoe\", True, 4, \"Female\", \"Arabian\")\n",
    "lucky = Horse(\"Lucky\", False, 3, \"Male\", \"Siberian Husky\")"
   ]
  },
  {
   "cell_type": "code",
   "execution_count": 7,
   "id": "85f1d273",
   "metadata": {},
   "outputs": [
    {
     "name": "stdout",
     "output_type": "stream",
     "text": [
      "There are 2 horses in the stable.\n"
     ]
    }
   ],
   "source": [
    "print(f\"There are {Horse.get_horse_count()} horses in the stable.\")"
   ]
  },
  {
   "cell_type": "code",
   "execution_count": 8,
   "id": "a5529604",
   "metadata": {},
   "outputs": [
    {
     "name": "stdout",
     "output_type": "stream",
     "text": [
      "There are 5 animals in my ranch.\n"
     ]
    }
   ],
   "source": [
    "print(f\"There are {Animal.get_animal_count()} animals in my ranch.\")"
   ]
  },
  {
   "cell_type": "code",
   "execution_count": 9,
   "id": "001daf2a",
   "metadata": {},
   "outputs": [
    {
     "name": "stdout",
     "output_type": "stream",
     "text": [
      "Zoe is galloping!\n"
     ]
    }
   ],
   "source": [
    "print(zoe.gallop())"
   ]
  },
  {
   "cell_type": "code",
   "execution_count": 10,
   "id": "adead159",
   "metadata": {},
   "outputs": [
    {
     "name": "stdout",
     "output_type": "stream",
     "text": [
      "2024-10-05\n"
     ]
    }
   ],
   "source": [
    "coco.add_birthday(2024, 10, 5)\n",
    "print(coco.get_birthday())"
   ]
  },
  {
   "cell_type": "code",
   "execution_count": null,
   "id": "a5f00060",
   "metadata": {},
   "outputs": [],
   "source": []
  }
 ],
 "metadata": {
  "kernelspec": {
   "display_name": "base",
   "language": "python",
   "name": "python3"
  },
  "language_info": {
   "codemirror_mode": {
    "name": "ipython",
    "version": 3
   },
   "file_extension": ".py",
   "mimetype": "text/x-python",
   "name": "python",
   "nbconvert_exporter": "python",
   "pygments_lexer": "ipython3",
   "version": "3.11.9"
  }
 },
 "nbformat": 4,
 "nbformat_minor": 5
}
